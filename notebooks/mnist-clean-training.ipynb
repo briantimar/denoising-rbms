{
 "cells": [
  {
   "cell_type": "code",
   "execution_count": 1,
   "metadata": {},
   "outputs": [
    {
     "ename": "ImportError",
     "evalue": "No module named 'tensorflow_datasets'",
     "output_type": "error",
     "traceback": [
      "\u001b[0;31m---------------------------------------------------------------------------\u001b[0m",
      "\u001b[0;31mImportError\u001b[0m                               Traceback (most recent call last)",
      "\u001b[0;32m<ipython-input-1-ce717644fac5>\u001b[0m in \u001b[0;36m<module>\u001b[0;34m\u001b[0m\n\u001b[1;32m      1\u001b[0m \u001b[0;32mimport\u001b[0m \u001b[0mtensorflow\u001b[0m \u001b[0;32mas\u001b[0m \u001b[0mtf\u001b[0m\u001b[0;34m\u001b[0m\u001b[0m\n\u001b[0;32m----> 2\u001b[0;31m \u001b[0;32mimport\u001b[0m \u001b[0mtensorflow_datasets\u001b[0m \u001b[0;32mas\u001b[0m \u001b[0mtfds\u001b[0m\u001b[0;34m\u001b[0m\u001b[0m\n\u001b[0m\u001b[1;32m      3\u001b[0m \u001b[0;32mimport\u001b[0m \u001b[0mnumpy\u001b[0m \u001b[0;32mas\u001b[0m \u001b[0mnp\u001b[0m\u001b[0;34m\u001b[0m\u001b[0m\n\u001b[1;32m      4\u001b[0m \u001b[0;32mimport\u001b[0m \u001b[0msys\u001b[0m\u001b[0;34m\u001b[0m\u001b[0m\n\u001b[1;32m      5\u001b[0m \u001b[0msys\u001b[0m\u001b[0;34m.\u001b[0m\u001b[0mpath\u001b[0m\u001b[0;34m.\u001b[0m\u001b[0mappend\u001b[0m\u001b[0;34m(\u001b[0m\u001b[0;34m'..'\u001b[0m\u001b[0;34m)\u001b[0m\u001b[0;34m\u001b[0m\u001b[0m\n",
      "\u001b[0;31mImportError\u001b[0m: No module named 'tensorflow_datasets'"
     ]
    }
   ],
   "source": [
    "import tensorflow as tf\n",
    "import tensorflow_datasets as tfds\n",
    "import numpy as np\n",
    "import sys\n",
    "sys.path.append('..')"
   ]
  },
  {
   "cell_type": "code",
   "execution_count": 2,
   "metadata": {
    "collapsed": true
   },
   "outputs": [],
   "source": [
    "from models import LocalNoiseRBM"
   ]
  },
  {
   "cell_type": "code",
   "execution_count": 20,
   "metadata": {},
   "outputs": [],
   "source": [
    "ds,info = tfds.load(\"mnist\", with_info=True)"
   ]
  },
  {
   "cell_type": "code",
   "execution_count": 21,
   "metadata": {
    "collapsed": true
   },
   "outputs": [],
   "source": [
    "mnist_trset = ds['train']"
   ]
  },
  {
   "cell_type": "code",
   "execution_count": 19,
   "metadata": {},
   "outputs": [],
   "source": [
    "def train_mnist(rbm, optimizer,\n",
    "                k=1,\n",
    "                shuffle=1024,\n",
    "                batch_size=64,\n",
    "                epochs=20, \n",
    "                noise_condition=False,\n",
    "                persistent=True):\n",
    "  \n",
    "    \"\"\"Train the provided rbm on the given tf.Dataset\"\"\"\n",
    "\n",
    "    dataset=mnist_trset\n",
    "\n",
    "    ## shuffle and batch the dataset\n",
    "    dataset = dataset.shuffle(shuffle).repeat(epochs).batch(batch_size)\n",
    "    ## get seeds for persistent chains\n",
    "    with tf.Session() as sess:\n",
    "        seed_images = dataset.take(1).make_one_shot_iterator().get_next()['image'].eval()\n",
    "\n",
    "    seed_images = ((np.reshape(seed_images, (-1, 28**2, 1))/255.0)>.5).astype(np.float32)\n",
    "\n",
    "    data_feed = tf.cast(dataset.make_one_shot_iterator().get_next()['image'], tf.float32)\n",
    "\n",
    "    ## reshape to visible layer, and binarize\n",
    "    data_feed = tf.cast((tf.reshape(data_feed, (-1, 28**2, 1)) / 255.0) >= .5, tf.float32)\n",
    "\n",
    "    ##placeholder to store persistent states\n",
    "    persistent_feed = tf.placeholder(dtype=tf.float32, shape=(batch_size, 28**2, 1))\n",
    "    persistent_state = persistent_feed if persistent else None\n",
    "\n",
    "    grads_and_vars, new_persistent_state = rbm.nll_gradients(data_feed, k, noise_condition=noise_condition,\n",
    "                                  persistent_state=persistent_state)\n",
    "\n",
    "\n",
    "    persistent_state_numpy = seed_images\n",
    "\n",
    "    ## run this op to perform training\n",
    "    tr_op = optimizer.apply_gradients(grads_and_vars)\n",
    "\n",
    "    batch=0\n",
    "    ## number of batches between samples\n",
    "    sample_step = 1000\n",
    "\n",
    "    saved_samples = []\n",
    "    saved_vars = []\n",
    "\n",
    "    with tf.Session() as sess:\n",
    "        tf.global_variables_initializer().run()\n",
    "\n",
    "        while True:\n",
    "            try:\n",
    "\n",
    "                if batch % sample_step == 0:\n",
    "                    print(\"sample %d\" % (batch// sample_step))\n",
    "                    saved_samples.append(persistent_state_numpy)\n",
    "                    saved_vars.append(sess.run(rbm.variables))\n",
    "\n",
    "                __, persistent_state_numpy = sess.run([tr_op, new_persistent_state],\n",
    "                                                       feed_dict = {persistent_feed:\n",
    "                                                                    persistent_state_numpy}\n",
    "                                                        )\n",
    "                batch +=1\n",
    "\n",
    "            except tf.errors.OutOfRangeError:\n",
    "                break\n",
    "    return saved_samples, saved_vars\n"
   ]
  },
  {
   "cell_type": "code",
   "execution_count": 23,
   "metadata": {
    "collapsed": true
   },
   "outputs": [],
   "source": [
    "nv = 28**2\n",
    "nh = 100"
   ]
  },
  {
   "cell_type": "code",
   "execution_count": 24,
   "metadata": {
    "collapsed": true
   },
   "outputs": [],
   "source": [
    "k=1"
   ]
  },
  {
   "cell_type": "code",
   "execution_count": 10,
   "metadata": {
    "collapsed": true
   },
   "outputs": [],
   "source": [
    "rbm = LocalNoiseRBM(nv, nh)"
   ]
  },
  {
   "cell_type": "code",
   "execution_count": 25,
   "metadata": {
    "collapsed": true
   },
   "outputs": [],
   "source": [
    "lr=1e-3\n",
    "optimizer = tf.train.AdamOptimizer(learning_rate=lr)"
   ]
  }
 ],
 "metadata": {
  "kernelspec": {
   "display_name": "Python 3",
   "language": "python",
   "name": "python3"
  },
  "language_info": {
   "codemirror_mode": {
    "name": "ipython",
    "version": 3
   },
   "file_extension": ".py",
   "mimetype": "text/x-python",
   "name": "python",
   "nbconvert_exporter": "python",
   "pygments_lexer": "ipython3",
   "version": "3.5.4"
  }
 },
 "nbformat": 4,
 "nbformat_minor": 2
}
